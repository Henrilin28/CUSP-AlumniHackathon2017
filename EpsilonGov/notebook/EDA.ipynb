{
 "cells": [
  {
   "cell_type": "markdown",
   "metadata": {
    "deletable": true,
    "editable": true
   },
   "source": [
    "### This notebook is about exploratory data analysis and it could be summerized as follows:\n",
    "\n",
    "- Data fact sheet: Ratio of missing value for each column\n",
    "- We have exclueded some attributes that are irrevelent to the charges.\n",
    "- Aggregated attributes by time and spatial\n",
    "\n",
    "Oh and I use python3"
   ]
  },
  {
   "cell_type": "code",
   "execution_count": 38,
   "metadata": {
    "collapsed": false,
    "deletable": true,
    "editable": true
   },
   "outputs": [],
   "source": [
    "import pandas as pd\n",
    "import numpy as np\n",
    "\n",
    "import matplotlib.pyplot as plt\n",
    "from pylab import rcParams\n",
    "import seaborn as sns\n",
    "\n",
    "import warnings\n",
    "warnings.filterwarnings('ignore')\n",
    "\n",
    "plt.style.use('fivethirtyeight')\n",
    "rcParams['figure.figsize'] = 13, 7\n",
    "rcParams['figure.figsize'] = 13, 7\n",
    "rcParams[\"xtick.labelsize\"] = 16\n",
    "rcParams[\"ytick.labelsize\"] = 16\n",
    "rcParams[\"axes.labelsize\"] = \"x-large\"\n",
    "%matplotlib inline"
   ]
  },
  {
   "cell_type": "code",
   "execution_count": 45,
   "metadata": {
    "collapsed": true,
    "deletable": true,
    "editable": true
   },
   "outputs": [],
   "source": [
    "def lookup(s):\n",
    "    \"\"\"\n",
    "    speed up date-parse\n",
    "    \"\"\"\n",
    "    dates = {date:pd.to_datetime(date, errors='coerce') for date in s.unique()}\n",
    "    return s.map(dates)\n",
    "\n",
    "def barplot(df, attribute, top=5):\n",
    "    fig, ax = plt.subplots()\n",
    "    df_plt = df.groupby([attribute]).size().sort_values(ascending=False\n",
    "                                                       ).head(top).sort_values(\n",
    "                                                        ascending=True)\n",
    "    df_plt.plot(kind=\"barh\", ax=ax)\n",
    "    plt.xlabel(\"No. of Cases\")\n",
    "    "
   ]
  },
  {
   "cell_type": "code",
   "execution_count": 22,
   "metadata": {
    "collapsed": false,
    "deletable": true,
    "editable": true
   },
   "outputs": [],
   "source": [
    "df = pd.read_excel(\"../data/hackathon-CUSP-WI_clean.xls\")"
   ]
  },
  {
   "cell_type": "markdown",
   "metadata": {
    "deletable": true,
    "editable": true
   },
   "source": [
    "#### You can find null value ratio in csv file! There are too many value to visualize here."
   ]
  },
  {
   "cell_type": "code",
   "execution_count": 23,
   "metadata": {
    "collapsed": true,
    "deletable": true,
    "editable": true
   },
   "outputs": [],
   "source": [
    "count_nan = len(df) - df.count()"
   ]
  },
  {
   "cell_type": "code",
   "execution_count": 24,
   "metadata": {
    "collapsed": false,
    "deletable": true,
    "editable": true
   },
   "outputs": [],
   "source": [
    "pd.DataFrame(count_nan.sort_values(ascending=True)/(1.0*len(df))\n",
    "            ).rename(columns={0:\"null_ratio\"}).to_csv('../data/fact_to_whole_data_set.csv')"
   ]
  },
  {
   "cell_type": "markdown",
   "metadata": {
    "deletable": true,
    "editable": true
   },
   "source": [
    "#### we remove columns full of null value for EDA. Those columns will be back when we build the predicitve model\n"
   ]
  },
  {
   "cell_type": "code",
   "execution_count": 25,
   "metadata": {
    "collapsed": false,
    "deletable": true,
    "editable": true
   },
   "outputs": [],
   "source": [
    "df2 = df.copy()\n",
    "clean = df2.dropna(axis=1, how='all')\n",
    "clean[\"Ref Date\"] = lookup(clean[\"Ref Date\"])"
   ]
  },
  {
   "cell_type": "code",
   "execution_count": 26,
   "metadata": {
    "collapsed": false,
    "deletable": true,
    "editable": true
   },
   "outputs": [],
   "source": [
    "irrevelent_code = [\"973.076(2)(a)\", \"343.44(1)(b)&(2)(ar)2\", \"976.03\"]\n",
    "clean = clean[~clean[\"Summary Charge Statute #\"].isin(irrevelent_code)]"
   ]
  },
  {
   "cell_type": "markdown",
   "metadata": {
    "deletable": true,
    "editable": true
   },
   "source": [
    "#### Check the unique values within each column"
   ]
  },
  {
   "cell_type": "code",
   "execution_count": 27,
   "metadata": {
    "collapsed": false,
    "deletable": true,
    "editable": true
   },
   "outputs": [
    {
     "name": "stdout",
     "output_type": "stream",
     "text": [
      "DA Case Status has 23 unique values\n",
      "Ref Date has 11271 unique values\n",
      "Referral Type has 5 unique values\n",
      "Ref Agency has 40 unique values\n",
      "Primary Officer has 206 unique values\n",
      "Prosecutor has 13 unique values\n",
      "Unit has 13 unique values\n",
      "Defendant City has 157 unique values\n",
      "Defendant State has 6 unique values\n",
      "Defendant Zip has 131 unique values\n",
      "Defendant Race has 8 unique values\n",
      "Defendant Gender has 3 unique values\n",
      "Defendant's Age at Incident has 73 unique values\n",
      "Defendant’s Arrest Status has 3 unique values\n",
      "CC# Year has 22 unique values\n",
      "Incident Date has 4630 unique values\n",
      "Municipality has 27 unique values\n",
      "Incident Zip has 18 unique values\n",
      "Type has 8 unique values\n",
      "Summary Charge Statute # has 518 unique values\n",
      "Summary Charge Desc has 499 unique values\n",
      "Severity has 5 unique values\n",
      "Class has 13 unique values\n",
      "Charge Status has 10 unique values\n",
      "Charge Dispo has 21 unique values\n",
      "Dispo Date has 746 unique values\n",
      "Modifier has 5 unique values\n",
      "Enhancer1 has 18 unique values\n",
      "Enhancer2 has 12 unique values\n",
      "Enhancer3 has 3 unique values\n",
      "Child Abuse might be binary or numeric column\n",
      "Child Neglect might be binary or numeric column\n",
      "Child Pornography might be binary or numeric column\n",
      "Child Sexual Assault might be binary or numeric column\n",
      "Child Support might be binary or numeric column\n",
      "Civil Forfeiture might be binary or numeric column\n",
      "Civil Traffic might be binary or numeric column\n",
      "Criminal might be binary or numeric column\n",
      "Criminal Traffic might be binary or numeric column\n",
      "Diversion might be binary or numeric column\n",
      "Domestic might be binary or numeric column\n",
      "Drug Court might be binary or numeric column\n",
      "Drug Related might be binary or numeric column\n",
      "Extradition might be binary or numeric column\n",
      "Fast Track might be binary or numeric column\n",
      "Fatal might be binary or numeric column\n",
      "Felony might be binary or numeric column\n",
      "Forfeiture might be binary or numeric column\n",
      "Homicide might be binary or numeric column\n",
      "John Doe might be binary or numeric column\n",
      "Misdemeanor might be binary or numeric column\n",
      "Non-violent might be binary or numeric column\n",
      "Open Meeting might be binary or numeric column\n",
      "Property Forfeiture might be binary or numeric column\n",
      "Request for Review might be binary or numeric column\n",
      "Safe Zone might be binary or numeric column\n",
      "Scanned File might be binary or numeric column\n",
      "Sensitive might be binary or numeric column\n",
      "Sex Offender Registry Violation might be binary or numeric column\n",
      "Sex Predator might be binary or numeric column\n",
      "Sexual Assault might be binary or numeric column\n",
      "Special Pros/In might be binary or numeric column\n",
      "Special Pros/Out might be binary or numeric column\n",
      "Special Prosecution might be binary or numeric column\n",
      "Wage Claims might be binary or numeric column\n",
      "Worthless Check might be binary or numeric column\n"
     ]
    }
   ],
   "source": [
    "column_list = clean.columns.values.tolist()\n",
    "for column_name in column_list:\n",
    "    if len(clean[column_name].unique()) <= 2:\n",
    "        print (\"{} might be binary or numeric column\".format(column_name))\n",
    "    else:\n",
    "        print(\"{} has {} unique values\".format(column_name, len(clean[column_name].unique())))"
   ]
  },
  {
   "cell_type": "code",
   "execution_count": 46,
   "metadata": {
    "collapsed": false,
    "deletable": true,
    "editable": true
   },
   "outputs": [
    {
     "data": {
      "image/png": "[encoded data removed]",
      "text/plain": [
       "<matplotlib.figure.Figure at 0x10b4b93c8>"
      ]
     },
     "metadata": {},
     "output_type": "display_data"
    }
   ],
   "source": [
    "barplot(clean, \"Primary Officer\")"
   ]
  },
  {
   "cell_type": "code",
   "execution_count": 47,
   "metadata": {
    "collapsed": false,
    "deletable": true,
    "editable": true
   },
   "outputs": [
    {
     "data": {
      "image/png": "[encoded data removed]",
      "text/plain": [
       "<matplotlib.figure.Figure at 0x10b4da550>"
      ]
     },
     "metadata": {},
     "output_type": "display_data"
    }
   ],
   "source": [
    "barplot(clean, \"Prosecutor\")"
   ]
  },
  {
   "cell_type": "code",
   "execution_count": 48,
   "metadata": {
    "collapsed": false,
    "deletable": true,
    "editable": true
   },
   "outputs": [
    {
     "data": {
      "image/png": "[encoded data removed]",
      "text/plain": [
       "<matplotlib.figure.Figure at 0x10bb85f60>"
      ]
     },
     "metadata": {},
     "output_type": "display_data"
    }
   ],
   "source": [
    "barplot(clean, \"DA Case Status\")"
   ]
  },
  {
   "cell_type": "code",
   "execution_count": 49,
   "metadata": {
    "collapsed": false,
    "deletable": true,
    "editable": true
   },
   "outputs": [
    {
     "data": {
      "image/png": "[encoded data removed]",
      "text/plain": [
       "<matplotlib.figure.Figure at 0x10b460908>"
      ]
     },
     "metadata": {},
     "output_type": "display_data"
    }
   ],
   "source": [
    "barplot(clean, \"Defendant Race\", 8)"
   ]
  },
  {
   "cell_type": "code",
   "execution_count": 70,
   "metadata": {
    "collapsed": false,
    "deletable": true,
    "editable": true
   },
   "outputs": [
    {
     "data": {
      "image/png": "[encoded data removed]",
      "text/plain": [
       "<matplotlib.figure.Figure at 0x10d120cc0>"
      ]
     },
     "metadata": {},
     "output_type": "display_data"
    }
   ],
   "source": [
    "barplot(clean, \"Charge Dispo\", 8)"
   ]
  },
  {
   "cell_type": "code",
   "execution_count": 71,
   "metadata": {
    "collapsed": false,
    "deletable": true,
    "editable": true
   },
   "outputs": [
    {
     "data": {
      "image/png": "[encoded data removed]",
      "text/plain": [
       "<matplotlib.figure.Figure at 0x10b2bb4e0>"
      ]
     },
     "metadata": {},
     "output_type": "display_data"
    }
   ],
   "source": [
    "barplot(clean, \"Charge Status\", 8)"
   ]
  },
  {
   "cell_type": "markdown",
   "metadata": {
    "deletable": true,
    "editable": true
   },
   "source": [
    "#### Most the Charge status are issued and top three issued dispo are \n",
    "\n",
    "1) Guilty Due to No Contest Plea\n",
    "\n",
    "2) Dismissed on Prosecutors Motion\n",
    "\n",
    "3) Charge Dismissed but Read In\n",
    "\n",
    "\n",
    "There are lots of interesteing facts and concern in the following table. Firstly, if we are trying to build a classfier for the dataset. It will be super bias due to most of the data are issued. Secondly, regarding to the bias data set, what does the client really wants to know? what would be the cost that will caused by Deferred Prosecution, Dismissed or No prosecution. Finally, let's say we only look into the issued data, most of cases are \"Guilty Due to No Contest Plea\". Is that a good thing for social justice or "
   ]
  },
  {
   "cell_type": "code",
   "execution_count": 89,
   "metadata": {
    "collapsed": false,
    "deletable": true,
    "editable": true
   },
   "outputs": [
    {
     "data": {
      "text/html": [
       "<div>\n",
       "<table border=\"1\" class=\"dataframe\">\n",
       "  <thead>\n",
       "    <tr style=\"text-align: right;\">\n",
       "      <th>Charge Status</th>\n",
       "      <th>Amended</th>\n",
       "      <th>Deferred Prosecution</th>\n",
       "      <th>Dismissed</th>\n",
       "      <th>Diversion</th>\n",
       "      <th>Issued</th>\n",
       "      <th>No Prosecution</th>\n",
       "    </tr>\n",
       "    <tr>\n",
       "      <th>Charge Dispo</th>\n",
       "      <th></th>\n",
       "      <th></th>\n",
       "      <th></th>\n",
       "      <th></th>\n",
       "      <th></th>\n",
       "      <th></th>\n",
       "    </tr>\n",
       "  </thead>\n",
       "  <tbody>\n",
       "    <tr>\n",
       "      <th>Administrative Disposition</th>\n",
       "      <td>0.0</td>\n",
       "      <td>0.0</td>\n",
       "      <td>0.0</td>\n",
       "      <td>0.0</td>\n",
       "      <td>1.0</td>\n",
       "      <td>0.0</td>\n",
       "    </tr>\n",
       "    <tr>\n",
       "      <th>Amended By Prosecutor Or Court</th>\n",
       "      <td>0.0</td>\n",
       "      <td>0.0</td>\n",
       "      <td>0.0</td>\n",
       "      <td>0.0</td>\n",
       "      <td>17.0</td>\n",
       "      <td>0.0</td>\n",
       "    </tr>\n",
       "    <tr>\n",
       "      <th>Amended Complaint Filed</th>\n",
       "      <td>0.0</td>\n",
       "      <td>3.0</td>\n",
       "      <td>0.0</td>\n",
       "      <td>0.0</td>\n",
       "      <td>53.0</td>\n",
       "      <td>0.0</td>\n",
       "    </tr>\n",
       "    <tr>\n",
       "      <th>Charge Dismissed but Read In</th>\n",
       "      <td>0.0</td>\n",
       "      <td>8.0</td>\n",
       "      <td>0.0</td>\n",
       "      <td>3.0</td>\n",
       "      <td>747.0</td>\n",
       "      <td>0.0</td>\n",
       "    </tr>\n",
       "    <tr>\n",
       "      <th>Deferred Prosecution or Sentence</th>\n",
       "      <td>0.0</td>\n",
       "      <td>160.0</td>\n",
       "      <td>0.0</td>\n",
       "      <td>154.0</td>\n",
       "      <td>24.0</td>\n",
       "      <td>0.0</td>\n",
       "    </tr>\n",
       "    <tr>\n",
       "      <th>Discharged After Being Found Incompetent</th>\n",
       "      <td>0.0</td>\n",
       "      <td>0.0</td>\n",
       "      <td>0.0</td>\n",
       "      <td>0.0</td>\n",
       "      <td>3.0</td>\n",
       "      <td>0.0</td>\n",
       "    </tr>\n",
       "    <tr>\n",
       "      <th>Dismissed Before Initial Appearance</th>\n",
       "      <td>0.0</td>\n",
       "      <td>0.0</td>\n",
       "      <td>0.0</td>\n",
       "      <td>0.0</td>\n",
       "      <td>33.0</td>\n",
       "      <td>0.0</td>\n",
       "    </tr>\n",
       "    <tr>\n",
       "      <th>Dismissed on Courts own Motion</th>\n",
       "      <td>0.0</td>\n",
       "      <td>0.0</td>\n",
       "      <td>0.0</td>\n",
       "      <td>0.0</td>\n",
       "      <td>5.0</td>\n",
       "      <td>0.0</td>\n",
       "    </tr>\n",
       "    <tr>\n",
       "      <th>Dismissed on Defendants Motion</th>\n",
       "      <td>0.0</td>\n",
       "      <td>0.0</td>\n",
       "      <td>1.0</td>\n",
       "      <td>0.0</td>\n",
       "      <td>35.0</td>\n",
       "      <td>0.0</td>\n",
       "    </tr>\n",
       "    <tr>\n",
       "      <th>Dismissed on Prosecutors Motion</th>\n",
       "      <td>0.0</td>\n",
       "      <td>2.0</td>\n",
       "      <td>1.0</td>\n",
       "      <td>1.0</td>\n",
       "      <td>1189.0</td>\n",
       "      <td>4.0</td>\n",
       "    </tr>\n",
       "    <tr>\n",
       "      <th>Dismissed-Charges Consolidated into Different County</th>\n",
       "      <td>0.0</td>\n",
       "      <td>0.0</td>\n",
       "      <td>0.0</td>\n",
       "      <td>0.0</td>\n",
       "      <td>2.0</td>\n",
       "      <td>0.0</td>\n",
       "    </tr>\n",
       "    <tr>\n",
       "      <th>Found Guilty at Court Trial</th>\n",
       "      <td>0.0</td>\n",
       "      <td>0.0</td>\n",
       "      <td>0.0</td>\n",
       "      <td>0.0</td>\n",
       "      <td>2.0</td>\n",
       "      <td>0.0</td>\n",
       "    </tr>\n",
       "    <tr>\n",
       "      <th>Found Guilty at Jury Trial</th>\n",
       "      <td>1.0</td>\n",
       "      <td>0.0</td>\n",
       "      <td>0.0</td>\n",
       "      <td>0.0</td>\n",
       "      <td>39.0</td>\n",
       "      <td>0.0</td>\n",
       "    </tr>\n",
       "    <tr>\n",
       "      <th>Found Not Guilty at Court Trial</th>\n",
       "      <td>0.0</td>\n",
       "      <td>0.0</td>\n",
       "      <td>0.0</td>\n",
       "      <td>0.0</td>\n",
       "      <td>2.0</td>\n",
       "      <td>0.0</td>\n",
       "    </tr>\n",
       "    <tr>\n",
       "      <th>Found Not Guilty at Jury Trial</th>\n",
       "      <td>0.0</td>\n",
       "      <td>0.0</td>\n",
       "      <td>0.0</td>\n",
       "      <td>0.0</td>\n",
       "      <td>24.0</td>\n",
       "      <td>0.0</td>\n",
       "    </tr>\n",
       "    <tr>\n",
       "      <th>Guilty Due to Guilty Plea</th>\n",
       "      <td>0.0</td>\n",
       "      <td>0.0</td>\n",
       "      <td>0.0</td>\n",
       "      <td>0.0</td>\n",
       "      <td>621.0</td>\n",
       "      <td>0.0</td>\n",
       "    </tr>\n",
       "    <tr>\n",
       "      <th>Guilty Due to No Contest Plea</th>\n",
       "      <td>0.0</td>\n",
       "      <td>3.0</td>\n",
       "      <td>0.0</td>\n",
       "      <td>1.0</td>\n",
       "      <td>5869.0</td>\n",
       "      <td>0.0</td>\n",
       "    </tr>\n",
       "    <tr>\n",
       "      <th>Guilty but Not Guilty Due to Mental Disease/Defect</th>\n",
       "      <td>0.0</td>\n",
       "      <td>0.0</td>\n",
       "      <td>0.0</td>\n",
       "      <td>0.0</td>\n",
       "      <td>6.0</td>\n",
       "      <td>0.0</td>\n",
       "    </tr>\n",
       "    <tr>\n",
       "      <th>Other</th>\n",
       "      <td>0.0</td>\n",
       "      <td>0.0</td>\n",
       "      <td>0.0</td>\n",
       "      <td>0.0</td>\n",
       "      <td>1.0</td>\n",
       "      <td>0.0</td>\n",
       "    </tr>\n",
       "    <tr>\n",
       "      <th>Waived Extradition To Unknown Jurisdiction</th>\n",
       "      <td>0.0</td>\n",
       "      <td>0.0</td>\n",
       "      <td>0.0</td>\n",
       "      <td>0.0</td>\n",
       "      <td>1.0</td>\n",
       "      <td>0.0</td>\n",
       "    </tr>\n",
       "  </tbody>\n",
       "</table>\n",
       "</div>"
      ],
      "text/plain": [
       "Charge Status                                       Amended  \\\n",
       "Charge Dispo                                                  \n",
       "Administrative Disposition                              0.0   \n",
       "Amended By Prosecutor Or Court                          0.0   \n",
       "Amended Complaint Filed                                 0.0   \n",
       "Charge Dismissed but Read In                            0.0   \n",
       "Deferred Prosecution or Sentence                        0.0   \n",
       "Discharged After Being Found Incompetent                0.0   \n",
       "Dismissed Before Initial Appearance                     0.0   \n",
       "Dismissed on Courts own Motion                          0.0   \n",
       "Dismissed on Defendants Motion                          0.0   \n",
       "Dismissed on Prosecutors Motion                         0.0   \n",
       "Dismissed-Charges Consolidated into Different C...      0.0   \n",
       "Found Guilty at Court Trial                             0.0   \n",
       "Found Guilty at Jury Trial                              1.0   \n",
       "Found Not Guilty at Court Trial                         0.0   \n",
       "Found Not Guilty at Jury Trial                          0.0   \n",
       "Guilty Due to Guilty Plea                               0.0   \n",
       "Guilty Due to No Contest Plea                           0.0   \n",
       "Guilty but Not Guilty Due to Mental Disease/Defect      0.0   \n",
       "Other                                                   0.0   \n",
       "Waived Extradition To Unknown Jurisdiction              0.0   \n",
       "\n",
       "Charge Status                                       Deferred Prosecution  \\\n",
       "Charge Dispo                                                               \n",
       "Administrative Disposition                                           0.0   \n",
       "Amended By Prosecutor Or Court                                       0.0   \n",
       "Amended Complaint Filed                                              3.0   \n",
       "Charge Dismissed but Read In                                         8.0   \n",
       "Deferred Prosecution or Sentence                                   160.0   \n",
       "Discharged After Being Found Incompetent                             0.0   \n",
       "Dismissed Before Initial Appearance                                  0.0   \n",
       "Dismissed on Courts own Motion                                       0.0   \n",
       "Dismissed on Defendants Motion                                       0.0   \n",
       "Dismissed on Prosecutors Motion                                      2.0   \n",
       "Dismissed-Charges Consolidated into Different C...                   0.0   \n",
       "Found Guilty at Court Trial                                          0.0   \n",
       "Found Guilty at Jury Trial                                           0.0   \n",
       "Found Not Guilty at Court Trial                                      0.0   \n",
       "Found Not Guilty at Jury Trial                                       0.0   \n",
       "Guilty Due to Guilty Plea                                            0.0   \n",
       "Guilty Due to No Contest Plea                                        3.0   \n",
       "Guilty but Not Guilty Due to Mental Disease/Defect                   0.0   \n",
       "Other                                                                0.0   \n",
       "Waived Extradition To Unknown Jurisdiction                           0.0   \n",
       "\n",
       "Charge Status                                       Dismissed  Diversion  \\\n",
       "Charge Dispo                                                               \n",
       "Administrative Disposition                                0.0        0.0   \n",
       "Amended By Prosecutor Or Court                            0.0        0.0   \n",
       "Amended Complaint Filed                                   0.0        0.0   \n",
       "Charge Dismissed but Read In                              0.0        3.0   \n",
       "Deferred Prosecution or Sentence                          0.0      154.0   \n",
       "Discharged After Being Found Incompetent                  0.0        0.0   \n",
       "Dismissed Before Initial Appearance                       0.0        0.0   \n",
       "Dismissed on Courts own Motion                            0.0        0.0   \n",
       "Dismissed on Defendants Motion                            1.0        0.0   \n",
       "Dismissed on Prosecutors Motion                           1.0        1.0   \n",
       "Dismissed-Charges Consolidated into Different C...        0.0        0.0   \n",
       "Found Guilty at Court Trial                               0.0        0.0   \n",
       "Found Guilty at Jury Trial                                0.0        0.0   \n",
       "Found Not Guilty at Court Trial                           0.0        0.0   \n",
       "Found Not Guilty at Jury Trial                            0.0        0.0   \n",
       "Guilty Due to Guilty Plea                                 0.0        0.0   \n",
       "Guilty Due to No Contest Plea                             0.0        1.0   \n",
       "Guilty but Not Guilty Due to Mental Disease/Defect        0.0        0.0   \n",
       "Other                                                     0.0        0.0   \n",
       "Waived Extradition To Unknown Jurisdiction                0.0        0.0   \n",
       "\n",
       "Charge Status                                       Issued  No Prosecution  \n",
       "Charge Dispo                                                                \n",
       "Administrative Disposition                             1.0             0.0  \n",
       "Amended By Prosecutor Or Court                        17.0             0.0  \n",
       "Amended Complaint Filed                               53.0             0.0  \n",
       "Charge Dismissed but Read In                         747.0             0.0  \n",
       "Deferred Prosecution or Sentence                      24.0             0.0  \n",
       "Discharged After Being Found Incompetent               3.0             0.0  \n",
       "Dismissed Before Initial Appearance                   33.0             0.0  \n",
       "Dismissed on Courts own Motion                         5.0             0.0  \n",
       "Dismissed on Defendants Motion                        35.0             0.0  \n",
       "Dismissed on Prosecutors Motion                     1189.0             4.0  \n",
       "Dismissed-Charges Consolidated into Different C...     2.0             0.0  \n",
       "Found Guilty at Court Trial                            2.0             0.0  \n",
       "Found Guilty at Jury Trial                            39.0             0.0  \n",
       "Found Not Guilty at Court Trial                        2.0             0.0  \n",
       "Found Not Guilty at Jury Trial                        24.0             0.0  \n",
       "Guilty Due to Guilty Plea                            621.0             0.0  \n",
       "Guilty Due to No Contest Plea                       5869.0             0.0  \n",
       "Guilty but Not Guilty Due to Mental Disease/Defect     6.0             0.0  \n",
       "Other                                                  1.0             0.0  \n",
       "Waived Extradition To Unknown Jurisdiction             1.0             0.0  "
      ]
     },
     "execution_count": 89,
     "metadata": {},
     "output_type": "execute_result"
    }
   ],
   "source": [
    "attribute = [\"Charge Dispo\", \"Charge Status\"]\n",
    "df_plt = df.groupby(attribute).size().sort_values(ascending=False\n",
    "                                                   ).unstack().fillna(0)\n",
    "df_plt"
   ]
  },
  {
   "cell_type": "markdown",
   "metadata": {
    "deletable": true,
    "editable": true
   },
   "source": [
    "#### I change the evaluation matrix of ZIPCODE in log level which shows more detail about the relationship between defendents and incident area."
   ]
  },
  {
   "cell_type": "code",
   "execution_count": 63,
   "metadata": {
    "collapsed": true,
    "deletable": true,
    "editable": true
   },
   "outputs": [],
   "source": [
    "# whole matrix can be found here\n",
    "zipcode_heat = clean.groupby([\"Defendant Zip\", \"Incident Zip\"]).size().unstack(\n",
    ").fillna(0)\n",
    "log_heat = zipcode_heat.applymap(np.log)"
   ]
  },
  {
   "cell_type": "code",
   "execution_count": 50,
   "metadata": {
    "collapsed": false,
    "deletable": true,
    "editable": true,
    "scrolled": true
   },
   "outputs": [],
   "source": [
    "sample = pd.DataFrame(clean.groupby([\"Defendant Zip\", \"Incident Zip\"]).size(\n",
    ").sort_values(ascending=False).head(30).unstack().fillna(0)).applymap(np.log)"
   ]
  },
  {
   "cell_type": "code",
   "execution_count": 52,
   "metadata": {
    "collapsed": false,
    "deletable": true,
    "editable": true
   },
   "outputs": [
    {
     "data": {
      "text/plain": [
       "<matplotlib.text.Text at 0x10e31cba8>"
      ]
     },
     "execution_count": 52,
     "metadata": {},
     "output_type": "execute_result"
    },
    {
     "data": {
      "image/png": "[encoded data removed]",
      "text/plain": [
       "<matplotlib.figure.Figure at 0x10b4b7b00>"
      ]
     },
     "metadata": {},
     "output_type": "display_data"
    }
   ],
   "source": [
    "plt.figure(figsize=(10,10))\n",
    "ax = sns.heatmap(sample)\n",
    "\n",
    "ax.set_xlabel(\"Incident Zip\", fontsize=20)\n",
    "ax.set_ylabel(\"Defendant Zip\", fontsize=20)\n",
    "plt.savefig(\"heatmap_incdient.png\")\n",
    "plt.title(\"log value of cases betwen Defendant Zip and Incident Zip\")"
   ]
  },
  {
   "cell_type": "code",
   "execution_count": 39,
   "metadata": {
    "collapsed": false,
    "deletable": true,
    "editable": true
   },
   "outputs": [
    {
     "data": {
      "image/png": "[encoded data removed]",
      "text/plain": [
       "<matplotlib.figure.Figure at 0x10e4b1780>"
      ]
     },
     "metadata": {},
     "output_type": "display_data"
    }
   ],
   "source": [
    "barplot(clean, \"Defendant Zip\")"
   ]
  },
  {
   "cell_type": "markdown",
   "metadata": {
    "deletable": true,
    "editable": true
   },
   "source": [
    "#### Try to plot network here but not really useful"
   ]
  },
  {
   "cell_type": "code",
   "execution_count": 56,
   "metadata": {
    "collapsed": false,
    "deletable": true,
    "editable": true
   },
   "outputs": [],
   "source": [
    "centroid = pd.read_csv(\"../data/wi_centroid.csv\",index_col=0)"
   ]
  },
  {
   "cell_type": "code",
   "execution_count": 58,
   "metadata": {
    "collapsed": false,
    "deletable": true,
    "editable": true
   },
   "outputs": [
    {
     "data": {
      "text/html": [
       "<div>\n",
       "<table border=\"1\" class=\"dataframe\">\n",
       "  <thead>\n",
       "    <tr style=\"text-align: right;\">\n",
       "      <th></th>\n",
       "      <th>GEOID10</th>\n",
       "      <th>geometry</th>\n",
       "      <th>centroid</th>\n",
       "      <th>area</th>\n",
       "    </tr>\n",
       "  </thead>\n",
       "  <tbody>\n",
       "    <tr>\n",
       "      <th>0</th>\n",
       "      <td>53406</td>\n",
       "      <td>POLYGON ((697001.6339924306 259111.7556624794,...</td>\n",
       "      <td>POINT (694791.8421371196 253030.3776194569)</td>\n",
       "      <td>1.546982</td>\n",
       "    </tr>\n",
       "    <tr>\n",
       "      <th>1</th>\n",
       "      <td>53501</td>\n",
       "      <td>MULTIPOLYGON (((596174.0940122458 237123.92080...</td>\n",
       "      <td>POINT (596654.5249659717 237509.7574519539)</td>\n",
       "      <td>0.006053</td>\n",
       "    </tr>\n",
       "    <tr>\n",
       "      <th>2</th>\n",
       "      <td>53502</td>\n",
       "      <td>POLYGON ((563220.2822070753 257889.5610522227,...</td>\n",
       "      <td>POINT (565686.2667921071 251304.0815120926)</td>\n",
       "      <td>4.764290</td>\n",
       "    </tr>\n",
       "    <tr>\n",
       "      <th>3</th>\n",
       "      <td>53503</td>\n",
       "      <td>POLYGON ((533175.327644023 296071.6486484241, ...</td>\n",
       "      <td>POINT (523567.9509882115 296291.9851296617)</td>\n",
       "      <td>5.376877</td>\n",
       "    </tr>\n",
       "    <tr>\n",
       "      <th>4</th>\n",
       "      <td>53504</td>\n",
       "      <td>POLYGON ((540004.2325915087 255346.6063553197,...</td>\n",
       "      <td>POINT (531459.7469693656 247978.3840172211)</td>\n",
       "      <td>8.538691</td>\n",
       "    </tr>\n",
       "  </tbody>\n",
       "</table>\n",
       "</div>"
      ],
      "text/plain": [
       "   GEOID10                                           geometry  \\\n",
       "0    53406  POLYGON ((697001.6339924306 259111.7556624794,...   \n",
       "1    53501  MULTIPOLYGON (((596174.0940122458 237123.92080...   \n",
       "2    53502  POLYGON ((563220.2822070753 257889.5610522227,...   \n",
       "3    53503  POLYGON ((533175.327644023 296071.6486484241, ...   \n",
       "4    53504  POLYGON ((540004.2325915087 255346.6063553197,...   \n",
       "\n",
       "                                      centroid      area  \n",
       "0  POINT (694791.8421371196 253030.3776194569)  1.546982  \n",
       "1  POINT (596654.5249659717 237509.7574519539)  0.006053  \n",
       "2  POINT (565686.2667921071 251304.0815120926)  4.764290  \n",
       "3  POINT (523567.9509882115 296291.9851296617)  5.376877  \n",
       "4  POINT (531459.7469693656 247978.3840172211)  8.538691  "
      ]
     },
     "execution_count": 58,
     "metadata": {},
     "output_type": "execute_result"
    }
   ],
   "source": [
    "import geopandas as gpd\n",
    "from fiona import crs\n",
    "centroid = gpd.GeoDataFrame(centroid)\n",
    "centroid.crs = {'init': 'epsg:3071'}\n",
    "centroid.head()"
   ]
  },
  {
   "cell_type": "code",
   "execution_count": 59,
   "metadata": {
    "collapsed": false,
    "deletable": true,
    "editable": true
   },
   "outputs": [],
   "source": [
    "centroid = centroid.rename(columns={\"GEOID10\": \"Defendant Zip\"})\n",
    "centroid = centroid.set_index(\"Defendant Zip\")"
   ]
  },
  {
   "cell_type": "code",
   "execution_count": 66,
   "metadata": {
    "collapsed": false,
    "deletable": true,
    "editable": true
   },
   "outputs": [],
   "source": [
    "merge = zipcode_heat.join(centroid)\n",
    "normalized_area_siza = merge[result.columns.values[:-1]] / pd.to_numeric(merge[\"area\"])"
   ]
  },
  {
   "cell_type": "code",
   "execution_count": 68,
   "metadata": {
    "collapsed": true,
    "deletable": true,
    "editable": true
   },
   "outputs": [],
   "source": [
    "# output data preprocessing result\n",
    "clean.to_csv(\"../data/prepocessed_data.csv\")"
   ]
  },
  {
   "cell_type": "code",
   "execution_count": 67,
   "metadata": {
    "collapsed": false,
    "deletable": true,
    "editable": true
   },
   "outputs": [],
   "source": [
    "# here try to use attributes are in all the cases to understand the cases\n",
    "EDA_only = clean[~clean[\"Charge Dispo\"].isnull()]"
   ]
  },
  {
   "cell_type": "markdown",
   "metadata": {
    "deletable": true,
    "editable": true
   },
   "source": [
    "#### Data Engineering for spatial visualization"
   ]
  },
  {
   "cell_type": "code",
   "execution_count": 195,
   "metadata": {
    "collapsed": false,
    "deletable": true,
    "editable": true
   },
   "outputs": [],
   "source": [
    "## output the data for map\n",
    "spatial_visaul = clean[[\"Incident Zip\",\"Severity\", \"Class\"]].dropna()\n",
    "spatial_visaul[\"new_set\"] = spatial_visaul[\"Severity\"].str.strip() + \"_\" + \\\n",
    "spatial_visaul[\"Class\"]\n",
    "spatial_visaul.groupby([\"Incident Zip\", \"new_set\"]).size(\n",
    ").unstack().fillna(0).to_csv(\"spatial_visual.csv\")"
   ]
  },
  {
   "cell_type": "code",
   "execution_count": 247,
   "metadata": {
    "collapsed": false,
    "deletable": true,
    "editable": true
   },
   "outputs": [],
   "source": [
    "output2 = pd.DataFrame(spatial_visaul.groupby([\"Incident Zip\", \"new_set\"]).size())"
   ]
  },
  {
   "cell_type": "code",
   "execution_count": 248,
   "metadata": {
    "collapsed": false,
    "deletable": true,
    "editable": true
   },
   "outputs": [],
   "source": [
    "output2 = output2.reset_index()"
   ]
  },
  {
   "cell_type": "code",
   "execution_count": 249,
   "metadata": {
    "collapsed": false,
    "deletable": true,
    "editable": true
   },
   "outputs": [],
   "source": [
    "idx = output2.groupby(['Incident Zip'])[0].transform(max) == output2[0]"
   ]
  },
  {
   "cell_type": "code",
   "execution_count": 250,
   "metadata": {
    "collapsed": false,
    "deletable": true,
    "editable": true
   },
   "outputs": [],
   "source": [
    "outputfile = output2[output2.columns.values[:2]][idx]"
   ]
  },
  {
   "cell_type": "code",
   "execution_count": 251,
   "metadata": {
    "collapsed": true,
    "deletable": true,
    "editable": true
   },
   "outputs": [],
   "source": [
    "def replace_str(x):\n",
    "    return \"https://www.unitedstateszipcodes.org/{}/#stats\".format(str(x))\n",
    "\n",
    "outputfile[\"description\"] = outputfile[\"Incident Zip\"].apply(replace_str)"
   ]
  },
  {
   "cell_type": "code",
   "execution_count": 254,
   "metadata": {
    "collapsed": false,
    "deletable": true,
    "editable": true
   },
   "outputs": [],
   "source": [
    "\n",
    "outputfile[:-1].to_csv(\"output_file.csv\")"
   ]
  }
 ],
 "metadata": {
  "kernelspec": {
   "display_name": "Python 3",
   "language": "python",
   "name": "python3"
  },
  "language_info": {
   "codemirror_mode": {
    "name": "ipython",
    "version": 3
   },
   "file_extension": ".py",
   "mimetype": "text/x-python",
   "name": "python",
   "nbconvert_exporter": "python",
   "pygments_lexer": "ipython3",
   "version": "3.5.2"
  }
 },
 "nbformat": 4,
 "nbformat_minor": 2
}
